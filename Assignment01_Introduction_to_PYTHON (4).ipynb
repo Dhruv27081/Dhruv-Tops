{
  "nbformat": 4,
  "nbformat_minor": 0,
  "metadata": {
    "colab": {
      "provenance": []
    },
    "kernelspec": {
      "name": "python3",
      "display_name": "Python 3"
    },
    "language_info": {
      "name": "python"
    }
  },
  "cells": [
    {
      "cell_type": "markdown",
      "source": [
        "**1.What are the types of Applications?**\n",
        "\n",
        "---\n",
        "Ans. There are many types of applications:\n",
        "Web application, Mobile application, Command-line application,\tGaming application, Data analysis and visualization application, Business application, Education application, Health and fitness applications, Utility application, Productivity application, Networking application,\n",
        "\n"
      ],
      "metadata": {
        "id": "8oCzD4R2jcS1"
      }
    },
    {
      "cell_type": "markdown",
      "source": [
        "**2.\tWhat is programming?**\n",
        "\n",
        "---\n",
        "Ans. Programming is the process of writing instructions for a computer to follow in order to perform a task or solve a problem.\n"
      ],
      "metadata": {
        "id": "RAmuaDyEk00v"
      }
    },
    {
      "cell_type": "markdown",
      "source": [
        "**3.\tWhat is Python?**\n",
        "\n",
        "---\n",
        "Ans. Python is an interpreted, object-oriented, high-level programming language with dynamic semantics.\n"
      ],
      "metadata": {
        "id": "_wnRa7BzlObD"
      }
    },
    {
      "cell_type": "markdown",
      "source": [
        "**4.\tWrite a Python program to check if a number is positive, negative or zero.**"
      ],
      "metadata": {
        "id": "VTSgvnDSlk5d"
      }
    },
    {
      "cell_type": "code",
      "source": [
        "num=int(input(\"Enter a number : \"))\n",
        "if num>0:\n",
        "  print(\"The number is positive\")\n",
        "elif num==0:\n",
        "      print(\"The number is zero\")\n",
        "else:\n",
        "    print(\"The number is negative\")"
      ],
      "metadata": {
        "colab": {
          "base_uri": "https://localhost:8080/"
        },
        "id": "mro1QFHryI7m",
        "outputId": "0537fab6-1972-448c-c133-f201ee94d99b"
      },
      "execution_count": null,
      "outputs": [
        {
          "output_type": "stream",
          "name": "stdout",
          "text": [
            "Enter a number : 5\n",
            "The number is positive\n"
          ]
        }
      ]
    },
    {
      "cell_type": "markdown",
      "source": [
        "**5.  Write a Python program to get the Factorial number of given numbers.**"
      ],
      "metadata": {
        "id": "onNEDUB6mi6C"
      }
    },
    {
      "cell_type": "code",
      "source": [
        "def factorial(n):\n",
        "    if n == 0 or n == 1:\n",
        "        return 1\n",
        "    else:\n",
        "        return n * factorial(n - 1)\n",
        "\n",
        "number = int(input(\"Enter a number: \"))\n",
        "\n",
        "if number < 0:\n",
        "    print(\"Factorial does not exist for negative numbers.\")\n",
        "else:\n",
        "    print(f\"The factorial of {number} is {factorial(number)}.\")\n"
      ],
      "metadata": {
        "id": "a4dgSm0cztqn",
        "colab": {
          "base_uri": "https://localhost:8080/"
        },
        "outputId": "dfdaf681-806d-4ad7-e587-ac864da3a953"
      },
      "execution_count": null,
      "outputs": [
        {
          "output_type": "stream",
          "name": "stdout",
          "text": [
            "Enter a number: 5\n",
            "The factorial of 5 is 120.\n"
          ]
        }
      ]
    },
    {
      "cell_type": "markdown",
      "source": [
        "**6.  Write a Python program to get the Fibonacci series of given range.**"
      ],
      "metadata": {
        "id": "bYzpMIPUne1E"
      }
    },
    {
      "cell_type": "code",
      "source": [
        "series=[0,1,2,3,5,8,13,21,34]\n",
        "range[0:5]"
      ],
      "metadata": {
        "colab": {
          "base_uri": "https://localhost:8080/"
        },
        "id": "rNr7OyeZzXFr",
        "outputId": "a702625c-0b22-418c-ab6e-d3f70a7c98ea"
      },
      "execution_count": null,
      "outputs": [
        {
          "output_type": "execute_result",
          "data": {
            "text/plain": [
              "[0, 1, 2, 3, 5]"
            ]
          },
          "metadata": {},
          "execution_count": 80
        }
      ]
    },
    {
      "cell_type": "markdown",
      "source": [
        "**7. How memory is managed in Python?**\n",
        "\n",
        "---\n",
        "Ans. Python manages memory automatically, using a private heap to store data structures and objects.\n"
      ],
      "metadata": {
        "id": "9RVibkRLoA2b"
      }
    },
    {
      "cell_type": "markdown",
      "source": [
        " **8. What is the purpose continuing statement in python?**\n",
        "\n",
        "---\n",
        "Ans. The continue statement is used to skip the remaining code inside a loop for the current iteration only.\n"
      ],
      "metadata": {
        "id": "r7AVaHTmorcl"
      }
    },
    {
      "cell_type": "markdown",
      "source": [
        "**9.  Write python program that swap two number with temp variable\n",
        "and without temp variable.**"
      ],
      "metadata": {
        "id": "BVEci019pPBt"
      }
    },
    {
      "cell_type": "code",
      "source": [
        "num1=int(input(\"Enter a number: \"))\n",
        "num2=int(input(\"Enter a number: \"))\n",
        "temp=num1\n",
        "num1=num2\n",
        "num2=temp\n",
        "print(\"num1: \",num1)\n",
        "print(\"num2: \",num2)"
      ],
      "metadata": {
        "colab": {
          "base_uri": "https://localhost:8080/"
        },
        "id": "09jY9vOs0LMF",
        "outputId": "4d8753d8-9419-4559-b204-b25c48024d0b"
      },
      "execution_count": null,
      "outputs": [
        {
          "output_type": "stream",
          "name": "stdout",
          "text": [
            "Enter a number: 1\n",
            "Enter a number: 2\n",
            "num1:  2\n",
            "num2:  1\n"
          ]
        }
      ]
    },
    {
      "cell_type": "markdown",
      "source": [
        "**10. Write a Python program to find whether a given number is even\n",
        "or odd, print out an appropriate message to the user.**"
      ],
      "metadata": {
        "id": "LvLuDkdtphW9"
      }
    },
    {
      "cell_type": "code",
      "source": [
        "num = int(input(\"Enter a number: \"))\n",
        "print(['Even', 'Odd'][num % 2])"
      ],
      "metadata": {
        "colab": {
          "base_uri": "https://localhost:8080/"
        },
        "id": "i5XnhYsbmIKJ",
        "outputId": "8ca3237e-3ac5-48c0-9a6c-1ffe32127cc5"
      },
      "execution_count": null,
      "outputs": [
        {
          "output_type": "stream",
          "name": "stdout",
          "text": [
            "Enter a number: 278\n",
            "Even\n"
          ]
        }
      ]
    },
    {
      "cell_type": "markdown",
      "source": [
        "**11. Write a Python program to test whether a passed letter is a vowel\n",
        "or not.**"
      ],
      "metadata": {
        "id": "WCAHBENWqalA"
      }
    },
    {
      "cell_type": "code",
      "source": [
        "def vowel(char):\n",
        "  vowels = 'aeiou'\n",
        "  return char in vowels\n",
        "\n",
        "char=input(\"Enter a letter: \")\n",
        "if vowel(char):\n",
        "  print(f\"{char} is a vowel.\")\n",
        "else:\n",
        "  print(f\"{char} is not a vowel.\")"
      ],
      "metadata": {
        "colab": {
          "base_uri": "https://localhost:8080/"
        },
        "id": "zAupYcha0mu2",
        "outputId": "90c832d4-cb9c-4cb8-8c07-a0c35967857b"
      },
      "execution_count": null,
      "outputs": [
        {
          "output_type": "stream",
          "name": "stdout",
          "text": [
            "Enter a letter: dhruv\n",
            "dhruv is not a vowel.\n"
          ]
        }
      ]
    },
    {
      "cell_type": "markdown",
      "source": [
        "**12. Write a Python program to sum of three given integers. However, if\n",
        "two values are equal sum will be zero.**"
      ],
      "metadata": {
        "id": "rkKE9F1yq8wH"
      }
    },
    {
      "cell_type": "code",
      "source": [
        "def sumthree(a,b,c):\n",
        "  if a==b or b==c or a==c:\n",
        "    return 0\n",
        "  else:\n",
        "    return a+b+c\n",
        "num1=int(input(\"Enter a number: \"))\n",
        "num2=int(input(\"Enter a number: \"))\n",
        "num3=int(input(\"Enter a number: \"))\n",
        "print(sumthree(num1,num2,num3))"
      ],
      "metadata": {
        "colab": {
          "base_uri": "https://localhost:8080/"
        },
        "id": "pmd7lNuA0UXA",
        "outputId": "665c4e09-c1d5-4e4f-cb60-3e05341faade"
      },
      "execution_count": null,
      "outputs": [
        {
          "output_type": "stream",
          "name": "stdout",
          "text": [
            "Enter a number: 15\n",
            "Enter a number: 20\n",
            "Enter a number: 65\n",
            "100\n"
          ]
        }
      ]
    },
    {
      "cell_type": "markdown",
      "source": [
        "**13. Write a Python program that will return true if the two given\n",
        "integer values are equal or their sum or difference is 5.**"
      ],
      "metadata": {
        "id": "NcqWpM9Ksyx_"
      }
    },
    {
      "cell_type": "code",
      "source": [
        "def checknumers(a,b):\n",
        "  if a==b or a+b==5 or a-b==5:\n",
        "    return True\n",
        "  else:\n",
        "    return False\n",
        "num1=int(input(\"Enter a number: \"))\n",
        "num2=int(input(\"Enter a number: \"))\n",
        "print(checknumers(num1,num2))"
      ],
      "metadata": {
        "colab": {
          "base_uri": "https://localhost:8080/"
        },
        "id": "T2lNlaRX1FZe",
        "outputId": "ac2a63b6-8c12-42f0-a55f-6896c661dda5"
      },
      "execution_count": null,
      "outputs": [
        {
          "output_type": "stream",
          "name": "stdout",
          "text": [
            "Enter a number: 5\n",
            "Enter a number: 4\n",
            "False\n"
          ]
        }
      ]
    },
    {
      "cell_type": "markdown",
      "source": [
        "**14.  Write a python program to sum of the first n positive integers.**"
      ],
      "metadata": {
        "id": "WsoWgMUEtAi2"
      }
    },
    {
      "cell_type": "code",
      "source": [
        "num=int(input(\"Enter a number: \"))\n",
        "sum=(num*(num+1))/2\n",
        "print(sum)"
      ],
      "metadata": {
        "colab": {
          "base_uri": "https://localhost:8080/"
        },
        "id": "k4gLL_VH1q20",
        "outputId": "b2911dc8-0256-47ff-af43-bf7c30b2cf6f"
      },
      "execution_count": null,
      "outputs": [
        {
          "output_type": "stream",
          "name": "stdout",
          "text": [
            "Enter a number: 2\n",
            "3.0\n"
          ]
        }
      ]
    },
    {
      "cell_type": "markdown",
      "source": [
        "\n",
        "**15. Write a Python program to calculate the length of a string.**"
      ],
      "metadata": {
        "id": "YNiB9wVrwliU"
      }
    },
    {
      "cell_type": "code",
      "source": [
        "string=input(\"Enter a string: \")\n",
        "print(len(string))"
      ],
      "metadata": {
        "colab": {
          "base_uri": "https://localhost:8080/"
        },
        "id": "azVNIMxYtcRU",
        "outputId": "581f915c-fd14-4618-c01c-c63639e4d117"
      },
      "execution_count": null,
      "outputs": [
        {
          "output_type": "stream",
          "name": "stdout",
          "text": [
            "Enter a string: Dhruv Kathrotiya\n",
            "16\n"
          ]
        }
      ]
    },
    {
      "cell_type": "markdown",
      "source": [
        "**16. Write a Python program to count the number of characters\n",
        "(character frequency) in a string.**"
      ],
      "metadata": {
        "id": "rDSchEMHxUoH"
      }
    },
    {
      "cell_type": "code",
      "source": [
        "from typing_extensions import Counter\n",
        "string=input(\"Enter a string: \")\n",
        "result=Counter(string)\n",
        "print(result)"
      ],
      "metadata": {
        "colab": {
          "base_uri": "https://localhost:8080/"
        },
        "id": "FEceUru1w4AP",
        "outputId": "af350a94-73d5-4983-b13b-903d23bea97f"
      },
      "execution_count": null,
      "outputs": [
        {
          "output_type": "stream",
          "name": "stdout",
          "text": [
            "Enter a string: Dhruv Kathrotiya\n",
            "Counter({'h': 2, 'r': 2, 'a': 2, 't': 2, 'D': 1, 'u': 1, 'v': 1, ' ': 1, 'K': 1, 'o': 1, 'i': 1, 'y': 1})\n"
          ]
        }
      ]
    },
    {
      "cell_type": "markdown",
      "source": [
        "**17. What are negative indexes and why are they used?**\n",
        "\n",
        "---\n",
        "Ans. Negative indexes are used in Python to access elements in a sequence from the end.\n",
        "\n",
        "\n",
        "\n",
        "\n"
      ],
      "metadata": {
        "id": "yn68SmA1yY7M"
      }
    },
    {
      "cell_type": "markdown",
      "source": [
        "**18. Write a Python program to count occurrences of a substring in a string.**"
      ],
      "metadata": {
        "id": "SfA3-zmQ0PlE"
      }
    },
    {
      "cell_type": "code",
      "source": [
        "string=\"Hello Python\"\n",
        "sunstring=\"h\"\n",
        "\n",
        "count=string.count(sunstring)\n",
        "print(f\"The count is: {count}\")"
      ],
      "metadata": {
        "colab": {
          "base_uri": "https://localhost:8080/"
        },
        "id": "a0ntzg3D1rGv",
        "outputId": "85a5a6d4-0ad6-419f-ea3b-f6f652d4158b"
      },
      "execution_count": null,
      "outputs": [
        {
          "output_type": "stream",
          "name": "stdout",
          "text": [
            "The count is: 1\n"
          ]
        }
      ]
    },
    {
      "cell_type": "markdown",
      "source": [
        "**19. Write a Python program to count the occurrences of each word in a given sentence.**"
      ],
      "metadata": {
        "id": "4sVo04tU3XIq"
      }
    },
    {
      "cell_type": "code",
      "source": [
        "string='hello Python'\n",
        "words=string.split()\n",
        "count={}\n",
        "for word in words:\n",
        "  if word in count:\n",
        "    count[word]+=1\n",
        "  else:\n",
        "    count[word]=1\n",
        "print(count)\n"
      ],
      "metadata": {
        "colab": {
          "base_uri": "https://localhost:8080/"
        },
        "id": "DoE8-XFl2ZTc",
        "outputId": "12d30880-673d-421f-a75f-61403466b8f2"
      },
      "execution_count": null,
      "outputs": [
        {
          "output_type": "stream",
          "name": "stdout",
          "text": [
            "{'hello': 1, 'Python': 1}\n"
          ]
        }
      ]
    },
    {
      "cell_type": "markdown",
      "source": [
        "**20. Write a Python program to get a single string from two given strings,\n",
        "separated by a space and swap the first two characters of each string.**"
      ],
      "metadata": {
        "id": "gyO1_lAR5dDu"
      }
    },
    {
      "cell_type": "code",
      "source": [
        "def swap_strings(str1, str2):\n",
        "  new_str1 = str2[:2] + str1[2:]\n",
        "  new_str2 = str1[:2] + str2[2:]\n",
        "  return new_str1 + \" \" + new_str2\n",
        "\n",
        "string1 = input(\"Enter the first string: \")\n",
        "string2 = input(\"Enter the second string: \")\n",
        "result = swap_strings(string1, string2)\n",
        "print(result)\n"
      ],
      "metadata": {
        "colab": {
          "base_uri": "https://localhost:8080/"
        },
        "id": "zS20MbXx9DjA",
        "outputId": "3db867af-23c1-4c8a-9b8c-63f9f75930b4"
      },
      "execution_count": null,
      "outputs": [
        {
          "output_type": "stream",
          "name": "stdout",
          "text": [
            "Enter the first string: Dhruv\n",
            "Enter the second string: Kathrotiya\n",
            "Karuv Dhthrotiya\n"
          ]
        }
      ]
    },
    {
      "cell_type": "markdown",
      "source": [
        "**21. Write a Python program to add 'in' at the end of a given string (length\n",
        "should be at least 3). If the given string already ends with 'ing' then\n",
        "add 'ly' instead if the string length of the given string is less than 3,\n",
        "leave it unchanged.**"
      ],
      "metadata": {
        "id": "xPI10XXs5wuV"
      }
    },
    {
      "cell_type": "code",
      "source": [
        "def modify_string(string):\n",
        "  if len(string) < 3:\n",
        "    return string\n",
        "  elif string[-3:] == 'ing':\n",
        "    return string + 'ly'\n",
        "  else:\n",
        "    return string + 'ing'\n",
        "\n",
        "string = input(\"Enter a string: \")\n",
        "result = modify_string(string)\n",
        "print(result)"
      ],
      "metadata": {
        "colab": {
          "base_uri": "https://localhost:8080/"
        },
        "id": "c6QkID7Y99XK",
        "outputId": "5301fbad-c117-4470-8549-57cb77f30591"
      },
      "execution_count": null,
      "outputs": [
        {
          "output_type": "stream",
          "name": "stdout",
          "text": [
            "Enter a string: hello\n",
            "helloing\n"
          ]
        }
      ]
    },
    {
      "cell_type": "markdown",
      "source": [
        "**22. Write a Python function to reverses a string if its length is a multiple\n",
        "of 4.**"
      ],
      "metadata": {
        "id": "lh76RQrv5-Qc"
      }
    },
    {
      "cell_type": "code",
      "source": [
        "a=\"Hello Pythonn\"\n",
        "print(a[::-1])"
      ],
      "metadata": {
        "colab": {
          "base_uri": "https://localhost:8080/"
        },
        "id": "1BULAbwm5Epk",
        "outputId": "0b526661-d183-438b-d4cd-2b7b30376be9"
      },
      "execution_count": null,
      "outputs": [
        {
          "output_type": "stream",
          "name": "stdout",
          "text": [
            "nnohtyP olleH\n"
          ]
        }
      ]
    },
    {
      "cell_type": "markdown",
      "source": [
        "**23. Write a Python program to get a string made of the first 2 and the last\n",
        "2 chars from a given a string. If the string length is less than 2, return\n",
        "instead of the empty string.**"
      ],
      "metadata": {
        "id": "bVSJ1ktV9D1f"
      }
    },
    {
      "cell_type": "code",
      "source": [
        "def get_string(string):\n",
        "  if len(string) < 2:\n",
        "    return ''\n",
        "  else:\n",
        "    return string[:2] + string[-2:]\n",
        "\n",
        "string = input(\"Enter a string: \")\n",
        "result = get_string(string)\n",
        "print(result)"
      ],
      "metadata": {
        "colab": {
          "base_uri": "https://localhost:8080/"
        },
        "id": "QPt1sY3n-dSE",
        "outputId": "87284c35-8fd3-4c7c-def0-172e8e4ac467"
      },
      "execution_count": null,
      "outputs": [
        {
          "output_type": "stream",
          "name": "stdout",
          "text": [
            "Enter a string: 123456\n",
            "1256\n"
          ]
        }
      ]
    },
    {
      "cell_type": "markdown",
      "source": [
        "**24.  Write a Python function to insert a string in the middle of a string.**"
      ],
      "metadata": {
        "id": "Y9HJE1et9OHI"
      }
    },
    {
      "cell_type": "code",
      "source": [
        "def insert_string_middle(str, word):\n",
        "  middle = len(str) // 2\n",
        "  return str[:middle] + word + str[middle:]\n",
        "\n",
        "string = input(\"Enter a string: \")\n",
        "word = input(\"Enter the word to insert: \")\n",
        "result = insert_string_middle(string, word)\n",
        "print(result)"
      ],
      "metadata": {
        "colab": {
          "base_uri": "https://localhost:8080/"
        },
        "id": "G2TAhay3_nhC",
        "outputId": "d5bae97a-aa97-4934-932c-d84d66cda40c"
      },
      "execution_count": null,
      "outputs": [
        {
          "output_type": "stream",
          "name": "stdout",
          "text": [
            "Enter a string: 456\n",
            "Enter the word to insert: 12\n",
            "41256\n"
          ]
        }
      ]
    },
    {
      "cell_type": "markdown",
      "source": [
        "**25. What is List? How will you reverse a list?**\n",
        "\n",
        "---\n",
        "Ans. A list is a data structure in Python that is a mutable, or changeable, ordered sequence of elements."
      ],
      "metadata": {
        "id": "GLn5Dji45sFn"
      }
    },
    {
      "cell_type": "code",
      "source": [
        "list=[1,2,3,4,5,6,7,8,9]\n",
        "list.reverse()\n",
        "print(list)"
      ],
      "metadata": {
        "colab": {
          "base_uri": "https://localhost:8080/"
        },
        "id": "AE5OzqCq7PcK",
        "outputId": "8cf7451b-1c16-4af9-9187-0a79bcf00918"
      },
      "execution_count": null,
      "outputs": [
        {
          "output_type": "stream",
          "name": "stdout",
          "text": [
            "[9, 8, 7, 6, 5, 4, 3, 2, 1]\n"
          ]
        }
      ]
    },
    {
      "cell_type": "markdown",
      "source": [
        "**26.  How will you remove last object from a list?**"
      ],
      "metadata": {
        "id": "1xhU3S078qri"
      }
    },
    {
      "cell_type": "code",
      "source": [
        "list=[1,2,3,4,5,6,7,8,9]\n",
        "del list[-1]\n",
        "print(list)"
      ],
      "metadata": {
        "colab": {
          "base_uri": "https://localhost:8080/"
        },
        "id": "3Cdo8ex68l25",
        "outputId": "45fcc51c-1a58-4027-b001-2e9922cac765"
      },
      "execution_count": null,
      "outputs": [
        {
          "output_type": "stream",
          "name": "stdout",
          "text": [
            "[1, 2, 3, 4, 5, 6, 7, 8]\n"
          ]
        }
      ]
    },
    {
      "cell_type": "markdown",
      "source": [
        "**27.  Suppose list1 is [2, 33, 222, 14, and 25], what is list1 [1]?**\n",
        "\n",
        "---\n",
        "Ans. In Python, list indexing starts from 0. So, when you access list1[1], it refers to the second element in the list.\n"
      ],
      "metadata": {
        "id": "vo3qW8zS9U_D"
      }
    },
    {
      "cell_type": "code",
      "source": [
        "list=[2,33,222,14,25]\n",
        "print(list[1])"
      ],
      "metadata": {
        "colab": {
          "base_uri": "https://localhost:8080/"
        },
        "id": "EL5xpmd89Swn",
        "outputId": "cedd0cbf-5dbc-48cb-dad9-af20e4fe04b3"
      },
      "execution_count": null,
      "outputs": [
        {
          "output_type": "stream",
          "name": "stdout",
          "text": [
            "33\n"
          ]
        }
      ]
    },
    {
      "cell_type": "markdown",
      "source": [
        "**28.  Differentiate between append () and extend () methods?**\n",
        "\n",
        "---\n",
        "Ans. Here's a simple way to remember the difference:\n",
        "\n",
        "append (): Adds a single element.\n",
        "\n",
        "extend (): Extends the list with multiple elements.\n"
      ],
      "metadata": {
        "id": "25rVWH9t-Cc8"
      }
    },
    {
      "cell_type": "markdown",
      "source": [
        "**29.  Write a Python function to get the largest number, smallest num and sum of all from a list.**"
      ],
      "metadata": {
        "id": "lS0oN8zd-yYu"
      }
    },
    {
      "cell_type": "code",
      "source": [
        "numbers=[1,22,333,4444,85679,8452]\n",
        "print(f\"Largest: {largest}, Smallest: {smallest}, Sum: {sum}\")"
      ],
      "metadata": {
        "colab": {
          "base_uri": "https://localhost:8080/"
        },
        "id": "BpA7M3sFFN2J",
        "outputId": "82c404df-a3fe-42b3-a372-1cd9992acd6e"
      },
      "execution_count": null,
      "outputs": [
        {
          "output_type": "stream",
          "name": "stdout",
          "text": [
            "Largest: 777, Smallest: 2, Sum: 3.0\n"
          ]
        }
      ]
    },
    {
      "cell_type": "markdown",
      "source": [
        "**30.  How will you compare two lists?**\n",
        "\n",
        "---\n",
        "Ans. you can compare two lists in Python using th == Operator.\n"
      ],
      "metadata": {
        "id": "w2KtvgrnGYhR"
      }
    },
    {
      "cell_type": "code",
      "source": [
        "list1=[11,222,3333,44444]\n",
        "list2=[11,222,3333,44444]\n",
        "list3=[11,222,3333,55555]\n",
        "print(list1==list2)\n",
        "print(list1==list3)"
      ],
      "metadata": {
        "colab": {
          "base_uri": "https://localhost:8080/"
        },
        "id": "eEuA4kZXGQmL",
        "outputId": "055a9d0b-0d49-4aa5-f813-cb443d11ba15"
      },
      "execution_count": null,
      "outputs": [
        {
          "output_type": "stream",
          "name": "stdout",
          "text": [
            "True\n",
            "False\n"
          ]
        }
      ]
    },
    {
      "cell_type": "markdown",
      "source": [
        "**31. Write a Python program to count the number of strings where the string  \n",
        "length is 2 or more and the first and last character are same from a given list of strings.**"
      ],
      "metadata": {
        "id": "4RqDIxSYHOqb"
      }
    },
    {
      "cell_type": "code",
      "source": [
        "def count_strings(strings):\n",
        "  count = 0\n",
        "  for string in strings:\n",
        "    if len(string) >= 2 and string[0] == string[-1]:\n",
        "      count += 1\n",
        "  return count\n",
        "\n",
        "strings = ['abc', 'xyz', 'aba', '4224']\n",
        "result = count_strings(strings)\n",
        "print(result)"
      ],
      "metadata": {
        "colab": {
          "base_uri": "https://localhost:8080/"
        },
        "id": "-6zPfuM6ACZx",
        "outputId": "c42e1ff3-8fb2-42ab-fa5b-b82d8199f4b5"
      },
      "execution_count": null,
      "outputs": [
        {
          "output_type": "stream",
          "name": "stdout",
          "text": [
            "2\n"
          ]
        }
      ]
    },
    {
      "cell_type": "markdown",
      "source": [
        "**32. Write a Python program to remove duplicates from a list.**"
      ],
      "metadata": {
        "id": "7jn3hTgoHdPN"
      }
    },
    {
      "cell_type": "code",
      "source": [
        "list=[1,2,3,4,5,6,7,8,9,9,8,7,6,5,4,3,2,1]\n",
        "newlist=(set(list))\n",
        "print(newlist)"
      ],
      "metadata": {
        "colab": {
          "base_uri": "https://localhost:8080/"
        },
        "id": "0qveUk2BIoGv",
        "outputId": "1232fd50-a8e0-46e5-8b87-4040e88fb75f"
      },
      "execution_count": null,
      "outputs": [
        {
          "output_type": "stream",
          "name": "stdout",
          "text": [
            "{1, 2, 3, 4, 5, 6, 7, 8, 9}\n"
          ]
        }
      ]
    },
    {
      "cell_type": "markdown",
      "source": [
        "**33. Write a Python program to check a list is empty or not.**"
      ],
      "metadata": {
        "id": "mCyD2WMJJjCN"
      }
    },
    {
      "cell_type": "code",
      "source": [
        "list=[]\n",
        "if len(list)==0:\n",
        "  print(\"The list is empty\")\n",
        "else:\n",
        "  print(\"The list is not empty\")"
      ],
      "metadata": {
        "colab": {
          "base_uri": "https://localhost:8080/"
        },
        "id": "SeaREOrtJA1Q",
        "outputId": "1ab361f2-ac7e-461f-8ff8-4a7a6fecfaa1"
      },
      "execution_count": null,
      "outputs": [
        {
          "output_type": "stream",
          "name": "stdout",
          "text": [
            "The list is empty\n"
          ]
        }
      ]
    },
    {
      "cell_type": "markdown",
      "source": [
        "**34. Write a Python function that takes two lists and returns true if they have at least one common member.**"
      ],
      "metadata": {
        "id": "FiRGV0U5LMQg"
      }
    },
    {
      "cell_type": "code",
      "source": [
        "def common_number(list1,list2):\n",
        "  for i in list1:\n",
        "    if i in list2:\n",
        "      return True\n",
        "  return False\n",
        "\n",
        "list1 = [1, 2, 3, 4, 5]\n",
        "list2 = [5, 6, 7, 8, 9]\n",
        "result = common_number(list1, list2)\n",
        "print(result)"
      ],
      "metadata": {
        "colab": {
          "base_uri": "https://localhost:8080/"
        },
        "id": "7goMq908Bv1k",
        "outputId": "07c4cfe2-d318-46ed-a94c-69061379c7c3"
      },
      "execution_count": null,
      "outputs": [
        {
          "output_type": "stream",
          "name": "stdout",
          "text": [
            "True\n"
          ]
        }
      ]
    },
    {
      "cell_type": "markdown",
      "source": [
        "**35. Write a Python program to generate and print a list of first and last 5 elements where the values are square of numbers between 1 and 30.**"
      ],
      "metadata": {
        "id": "3TUqVGxRLo5-"
      }
    },
    {
      "cell_type": "code",
      "source": [
        "def get_squared_list(start,end):\n",
        "  squares = [i**2 for i in range(start,end,+1)]\n",
        "  return squares[:5] + squares[-5:]\n",
        "\n",
        "result = get_squared_list(1,31)\n",
        "print(result)"
      ],
      "metadata": {
        "colab": {
          "base_uri": "https://localhost:8080/"
        },
        "id": "mMuWMkCBC255",
        "outputId": "8286eb09-57da-43b2-81ed-734e96c5be80"
      },
      "execution_count": null,
      "outputs": [
        {
          "output_type": "stream",
          "name": "stdout",
          "text": [
            "[1, 4, 9, 16, 25, 676, 729, 784, 841, 900]\n"
          ]
        }
      ]
    },
    {
      "cell_type": "markdown",
      "source": [
        "**36. Write a Python function that takes a list and returns a new list with\n",
        "unique elements of the first list.**"
      ],
      "metadata": {
        "id": "m1zUIkojMriY"
      }
    },
    {
      "cell_type": "code",
      "source": [
        "def uniqueelements(list1):\n",
        "  newlist = list(set(list1))\n",
        "  return newlist\n",
        "\n",
        "list1 = [1, 2, 2, 3, 4, 4, 5]\n",
        "result = uniqueelements(list1)\n",
        "print(result)"
      ],
      "metadata": {
        "id": "EU7e1T5cMily",
        "colab": {
          "base_uri": "https://localhost:8080/"
        },
        "outputId": "bb54e915-da07-467b-bfc6-405692f9755e"
      },
      "execution_count": null,
      "outputs": [
        {
          "output_type": "stream",
          "name": "stdout",
          "text": [
            "[1, 2, 3, 4, 5]\n"
          ]
        }
      ]
    },
    {
      "cell_type": "markdown",
      "source": [
        "**37. Write a Python program to convert a list of characters into a string.**"
      ],
      "metadata": {
        "id": "edYdGpcZM_Yd"
      }
    },
    {
      "cell_type": "code",
      "source": [
        "def string(list1):\n",
        "  string = ''.join(list1)\n",
        "  return string\n",
        "\n",
        "list1 = ['W', 'e', 'l', 'c', 'o','m','e']\n",
        "result = string(list1)\n",
        "print(result)\n"
      ],
      "metadata": {
        "id": "mUepW8jOM3-h",
        "colab": {
          "base_uri": "https://localhost:8080/"
        },
        "outputId": "fdde1a2e-7624-426c-c799-fb21e91233e9"
      },
      "execution_count": null,
      "outputs": [
        {
          "output_type": "stream",
          "name": "stdout",
          "text": [
            "Welcome\n"
          ]
        }
      ]
    },
    {
      "cell_type": "markdown",
      "source": [
        "**38. Write a Python program to select an item randomly from a list.**"
      ],
      "metadata": {
        "id": "vn8l_slkLCzo"
      }
    },
    {
      "cell_type": "code",
      "source": [
        "import random\n",
        "\n",
        "list1=[1,2,3,4,5,6,7,8,9]\n",
        "result=random.choice(list1)\n",
        "print(result)"
      ],
      "metadata": {
        "colab": {
          "base_uri": "https://localhost:8080/"
        },
        "id": "6fai-NK9EXG1",
        "outputId": "3cdec56b-bad1-404f-cd24-e09bb4204fb6"
      },
      "execution_count": null,
      "outputs": [
        {
          "output_type": "stream",
          "name": "stdout",
          "text": [
            "9\n"
          ]
        }
      ]
    },
    {
      "cell_type": "markdown",
      "source": [
        "**39. Write a Python program to find the second smallest number in a list.**"
      ],
      "metadata": {
        "id": "o_0zun5ELZwW"
      }
    },
    {
      "cell_type": "code",
      "source": [
        "def second_smallest(numbers):\n",
        "  if len(numbers) < 2:\n",
        "    return None\n",
        "\n",
        "  smallest = min (numbers)\n",
        "  numbers.remove(smallest)\n",
        "  second_smallest = min(numbers)\n",
        "\n",
        "  return second_smallest\n",
        "\n",
        "numbers = [55, 25, 80, 100, 90, 30]\n",
        "result = second_smallest(numbers)\n",
        "print(f\"The second smallest number is: {result}\")"
      ],
      "metadata": {
        "colab": {
          "base_uri": "https://localhost:8080/"
        },
        "id": "uI9ZANXLA11c",
        "outputId": "3fdf6394-3af9-48cf-b761-38a8d45015a6"
      },
      "execution_count": null,
      "outputs": [
        {
          "output_type": "stream",
          "name": "stdout",
          "text": [
            "The second smallest number is: 30\n"
          ]
        }
      ]
    },
    {
      "cell_type": "markdown",
      "source": [
        "**40.  Write a Python program to get unique values from a list.**"
      ],
      "metadata": {
        "id": "SoTaKbCoRU77"
      }
    },
    {
      "cell_type": "code",
      "source": [
        "list1=[1,2,3,4,5,6,7,8,9,9,8,7,6,5,4,3,2,1]\n",
        "unique_value=(set(list1))\n",
        "print(unique_value)"
      ],
      "metadata": {
        "id": "MqHyN8Y4M0ax",
        "colab": {
          "base_uri": "https://localhost:8080/"
        },
        "outputId": "edaef9cd-d340-488f-d97b-d47a0441ed44"
      },
      "execution_count": null,
      "outputs": [
        {
          "output_type": "stream",
          "name": "stdout",
          "text": [
            "{1, 2, 3, 4, 5, 6, 7, 8, 9}\n"
          ]
        }
      ]
    },
    {
      "cell_type": "markdown",
      "source": [
        "**41. Write a Python program to check whether a list contains a sub list.**"
      ],
      "metadata": {
        "id": "khBLWgIfDssh"
      }
    },
    {
      "cell_type": "code",
      "source": [
        "def sublist(lst, sublst):\n",
        "  if not sublst:\n",
        "    return True\n",
        "  if not lst:\n",
        "    return False\n",
        "  if lst[0] == sublst[0]:\n",
        "    return sublist(lst[1:], sublst[1:])\n",
        "  return sublist(lst[1:], sublst)\n",
        "\n",
        "lst = [1, 2, 3, 4, 5]\n",
        "sublst = [2, 3]\n",
        "result = sublist(lst, sublst)\n",
        "print(result)"
      ],
      "metadata": {
        "colab": {
          "base_uri": "https://localhost:8080/"
        },
        "id": "ILYRmXswGK4q",
        "outputId": "0681dda7-3e8d-45e0-9af6-b916a023b32d"
      },
      "execution_count": null,
      "outputs": [
        {
          "output_type": "stream",
          "name": "stdout",
          "text": [
            "True\n"
          ]
        }
      ]
    },
    {
      "cell_type": "markdown",
      "source": [
        "**42. Write a Python program to split a list into different variables.**"
      ],
      "metadata": {
        "id": "fgfX4Kh2EGlW"
      }
    },
    {
      "cell_type": "code",
      "source": [
        "colour=['red','green','blue','yellow']\n",
        "var1,var2,var3,var4=colour\n",
        "print(var1)\n",
        "print(var2)\n",
        "print(var3)\n",
        "print(var4)"
      ],
      "metadata": {
        "colab": {
          "base_uri": "https://localhost:8080/"
        },
        "id": "sSS82iSiECVc",
        "outputId": "664cb1e9-38f9-4cc5-cbcc-43718397b86e"
      },
      "execution_count": null,
      "outputs": [
        {
          "output_type": "stream",
          "name": "stdout",
          "text": [
            "red\n",
            "green\n",
            "blue\n",
            "yellow\n"
          ]
        }
      ]
    },
    {
      "cell_type": "markdown",
      "source": [
        "**43.What is tuple? Difference between list and tuple.**\n",
        "\n",
        "---\n",
        "Ans. A tuple is a finite, ordered list of elements that can be used in many fields, including mathematics, computer programming, and databases.\n",
        "\n",
        "The key difference between tuples and lists is that\n",
        "while tuples are immutable objects, lists are mutable.\n"
      ],
      "metadata": {
        "id": "-jx1AqOmEcML"
      }
    },
    {
      "cell_type": "markdown",
      "source": [
        "**44. Write a Python program to create a tuple with different data types.**"
      ],
      "metadata": {
        "id": "xszS-5M9FZlx"
      }
    },
    {
      "cell_type": "code",
      "source": [
        "tuple=(1, \"Welcome\",3.14,True)\n",
        "print(tuple)"
      ],
      "metadata": {
        "colab": {
          "base_uri": "https://localhost:8080/"
        },
        "id": "q-AgWJgdEZ-9",
        "outputId": "bff1ea58-9832-4f60-e966-bfe65562452e"
      },
      "execution_count": null,
      "outputs": [
        {
          "output_type": "stream",
          "name": "stdout",
          "text": [
            "(1, 'Welcome', 3.14, True)\n"
          ]
        }
      ]
    },
    {
      "cell_type": "markdown",
      "source": [
        "**45.Write a Python program to unzip a list of tuples into individual lists.**"
      ],
      "metadata": {
        "id": "obwYT-qGF1xs"
      }
    },
    {
      "cell_type": "code",
      "source": [
        "tuples=[(1, 'A'), (2, 'B'), (3, 'C')]\n",
        "unzip=list(zip(*tuples))\n",
        "print(unzip)"
      ],
      "metadata": {
        "colab": {
          "base_uri": "https://localhost:8080/"
        },
        "id": "hI0SAXdgFyIb",
        "outputId": "7dbfd148-e04e-46f4-8dc3-3cb30c173f9d"
      },
      "execution_count": null,
      "outputs": [
        {
          "output_type": "stream",
          "name": "stdout",
          "text": [
            "[(1, 2, 3), ('A', 'B', 'C')]\n"
          ]
        }
      ]
    },
    {
      "cell_type": "markdown",
      "source": [
        "**46. Write a Python program to convert a list of tuples into a dictionary.**\n"
      ],
      "metadata": {
        "id": "LNKqvamYGaq6"
      }
    },
    {
      "cell_type": "code",
      "source": [
        "tuples=[('A',1),('B',2),('C',3)]\n",
        "dictionary=dict(tuples)\n",
        "print(dictionary)"
      ],
      "metadata": {
        "colab": {
          "base_uri": "https://localhost:8080/"
        },
        "id": "jkLSBh4yGVIO",
        "outputId": "09649eb6-05fd-42a7-f849-fab2aca21380"
      },
      "execution_count": null,
      "outputs": [
        {
          "output_type": "stream",
          "name": "stdout",
          "text": [
            "{'A': 1, 'B': 2, 'C': 3}\n"
          ]
        }
      ]
    },
    {
      "cell_type": "markdown",
      "source": [
        "**47. How will you create a dictionary using tuples in python?**\n",
        "\n",
        "---\n",
        "Ans. You can use a dictionary assignment statement to assign a value to a key that's a tuple. For example, you can write directory[last, first] = number\n"
      ],
      "metadata": {
        "id": "jqL4qDMtG2Dt"
      }
    },
    {
      "cell_type": "markdown",
      "source": [
        "**48. Write a Python script to sort (ascending and descending) a\n",
        "dictionary by value.**"
      ],
      "metadata": {
        "id": "WNYxnYFFHcZS"
      }
    },
    {
      "cell_type": "code",
      "source": [
        "# Sort ascending\n",
        "dict={'a':1,'b':2,'c':3,'d':4,'e':5}\n",
        "sorted(dict.items())"
      ],
      "metadata": {
        "colab": {
          "base_uri": "https://localhost:8080/"
        },
        "id": "lw3K8T74gkCL",
        "outputId": "16c20e0a-71f2-4821-958d-5691edfb6b45"
      },
      "execution_count": null,
      "outputs": [
        {
          "output_type": "execute_result",
          "data": {
            "text/plain": [
              "[('a', 1), ('b', 2), ('c', 3), ('d', 4), ('e', 5)]"
            ]
          },
          "metadata": {},
          "execution_count": 19
        }
      ]
    },
    {
      "cell_type": "code",
      "source": [
        "# Sort descending\n",
        "dict={'a':1,'b':2,'c':3,'d':4,'e':5}\n",
        "sorted(dict.items(),reverse=True)"
      ],
      "metadata": {
        "colab": {
          "base_uri": "https://localhost:8080/"
        },
        "id": "J3fRZD4ahV9T",
        "outputId": "5c72003e-08d7-4b44-b4d8-645a2cc08113"
      },
      "execution_count": null,
      "outputs": [
        {
          "output_type": "execute_result",
          "data": {
            "text/plain": [
              "[('e', 5), ('d', 4), ('c', 3), ('b', 2), ('a', 1)]"
            ]
          },
          "metadata": {},
          "execution_count": 20
        }
      ]
    },
    {
      "cell_type": "markdown",
      "source": [
        "**49. Write a Python script to concatenate following dictionaries to create\n",
        "a new one.**"
      ],
      "metadata": {
        "id": "JmfPPvN9HsVN"
      }
    },
    {
      "cell_type": "code",
      "source": [
        "dict1={1: 10, 2: 20}\n",
        "dict2={3: 30, 4: 40}\n",
        "dict3={5: 50, 6: 60}\n",
        "dict4={7: 70, 8: 80}\n",
        "dict5={}\n",
        "for i in (dict1,dict2,dict3,dict4):\n",
        "  dict5.update(i)\n",
        "print(dict5)"
      ],
      "metadata": {
        "colab": {
          "base_uri": "https://localhost:8080/"
        },
        "id": "cocM8F7nG0bk",
        "outputId": "4b8ed2d0-fb38-4510-a1a4-77ddf6916186"
      },
      "execution_count": null,
      "outputs": [
        {
          "output_type": "stream",
          "name": "stdout",
          "text": [
            "{1: 10, 2: 20, 3: 30, 4: 40, 5: 50, 6: 60, 7: 70, 8: 80}\n"
          ]
        }
      ]
    },
    {
      "cell_type": "markdown",
      "source": [
        "**50. Write a Python script to check if a given key already exists in a\n",
        "dictionary.**"
      ],
      "metadata": {
        "id": "fCrRbs3ZIcZY"
      }
    },
    {
      "cell_type": "code",
      "source": [
        "dict={'A': 1, 'B': 2, 'C': 3}\n",
        "\n",
        "if 'A' in dict:\n",
        "    print(\"Key 'A' exists in the dictionary.\")\n",
        "else:\n",
        "    print(\"Key 'A' does not exist in the dictionary.\")"
      ],
      "metadata": {
        "colab": {
          "base_uri": "https://localhost:8080/"
        },
        "id": "G0GMRvpDh1ee",
        "outputId": "2026f190-e3ac-4698-f750-babeae8df20a"
      },
      "execution_count": null,
      "outputs": [
        {
          "output_type": "stream",
          "name": "stdout",
          "text": [
            "Key 'A' exists in the dictionary.\n"
          ]
        }
      ]
    },
    {
      "cell_type": "markdown",
      "source": [
        "**51. How Do You Traverse Through a Dictionary Object in Python?**\n",
        "\n",
        "---\n",
        "Ans. You can traverse through a dictionary object in Python using a for loop. here's how;\n"
      ],
      "metadata": {
        "id": "aoAys7soI2cN"
      }
    },
    {
      "cell_type": "code",
      "source": [
        "dict={'A': 1, 'B': 2, 'C': 3}\n",
        "for key in dict:\n",
        "  print(key,dict[key])"
      ],
      "metadata": {
        "colab": {
          "base_uri": "https://localhost:8080/"
        },
        "id": "8lkL-J_6IXwm",
        "outputId": "5e2e7d91-17e9-4dd5-b63d-b554ba460a6b"
      },
      "execution_count": null,
      "outputs": [
        {
          "output_type": "stream",
          "name": "stdout",
          "text": [
            "A 1\n",
            "B 2\n",
            "C 3\n"
          ]
        }
      ]
    },
    {
      "cell_type": "markdown",
      "source": [
        "**52. How Do You Check the Presence of a Key in A Dictionary?**\n",
        "\n",
        "---\n",
        "Ans. To check if a key exists in a Python dictionary, use the get() method.\n"
      ],
      "metadata": {
        "id": "_ihEuEbmKGke"
      }
    },
    {
      "cell_type": "markdown",
      "source": [
        "**53. Write a Python script to print a dictionary where the keys are\n",
        "numbers between 1 and 15.**"
      ],
      "metadata": {
        "id": "LkjxCPbaKsgl"
      }
    },
    {
      "cell_type": "code",
      "source": [
        "dict={}\n",
        "\n",
        "for i in range(1,16):\n",
        "  dict[i]=i*i\n",
        "print(dict)"
      ],
      "metadata": {
        "colab": {
          "base_uri": "https://localhost:8080/"
        },
        "id": "-40Vbp9QKAKe",
        "outputId": "a22a29be-203e-4233-c6fa-df9b278633b2"
      },
      "execution_count": null,
      "outputs": [
        {
          "output_type": "stream",
          "name": "stdout",
          "text": [
            "{1: 1, 2: 4, 3: 9, 4: 16, 5: 25, 6: 36, 7: 49, 8: 64, 9: 81, 10: 100, 11: 121, 12: 144, 13: 169, 14: 196, 15: 225}\n"
          ]
        }
      ]
    },
    {
      "cell_type": "markdown",
      "source": [
        "**54. Write a Python program to check multiple keys exists in a dictionary.**"
      ],
      "metadata": {
        "id": "2Imp71SxLEMr"
      }
    },
    {
      "cell_type": "code",
      "source": [
        "dict={'a':1, 'b':2, 'c':3, 'd':4, 'e':5}\n",
        "check=['a','c','e']\n",
        "\n",
        "if all (key in dict for key in check):\n",
        "  print(\"All keys exist in the dictionary.\")\n",
        "else:\n",
        "  print(\"Not all keys exist in the dictionary.\")"
      ],
      "metadata": {
        "colab": {
          "base_uri": "https://localhost:8080/"
        },
        "id": "mjJx9qwDiKNU",
        "outputId": "59d1bc61-2ab4-48ab-d9dd-e934461e0ad9"
      },
      "execution_count": null,
      "outputs": [
        {
          "output_type": "stream",
          "name": "stdout",
          "text": [
            "All keys exist in the dictionary.\n"
          ]
        }
      ]
    },
    {
      "cell_type": "markdown",
      "source": [
        "**55. Write a Python script to merge two Python dictionaries.**"
      ],
      "metadata": {
        "id": "ZU5OV-GpMcyO"
      }
    },
    {
      "cell_type": "code",
      "source": [
        "dict1={'A': 1, 'B': 2, 'C': 3}\n",
        "dict2={'D': 4, 'E': 5, 'F': 6}\n",
        "dict1.update(dict2)\n",
        "print(dict1)"
      ],
      "metadata": {
        "colab": {
          "base_uri": "https://localhost:8080/"
        },
        "id": "mniJv7j_MOTy",
        "outputId": "6335b746-704d-488f-e2c5-d438ba892956"
      },
      "execution_count": null,
      "outputs": [
        {
          "output_type": "stream",
          "name": "stdout",
          "text": [
            "{'A': 1, 'B': 2, 'C': 3, 'D': 4, 'E': 5, 'F': 6}\n"
          ]
        }
      ]
    },
    {
      "cell_type": "markdown",
      "source": [
        "**56. Write a Python program to map two lists into a dictionary\n",
        "Sample output: Counter ({'a': 400, 'b': 400,’d’: 400, 'c': 300}).**"
      ],
      "metadata": {
        "id": "DZwp3Hy8My__"
      }
    },
    {
      "cell_type": "code",
      "source": [
        "from collections import Counter\n",
        "\n",
        "keys= ['a', 'b', 'c', 'd']\n",
        "values = [400, 400, 400, 300]\n",
        "\n",
        "result = Counter(zip(keys, values))\n",
        "\n",
        "print(result)"
      ],
      "metadata": {
        "colab": {
          "base_uri": "https://localhost:8080/"
        },
        "id": "7ZK2lrC3jKH6",
        "outputId": "06fa8bc1-cd71-4487-d416-29b69a216bae"
      },
      "execution_count": null,
      "outputs": [
        {
          "output_type": "stream",
          "name": "stdout",
          "text": [
            "Counter({('a', 400): 1, ('b', 400): 1, ('c', 400): 1, ('d', 300): 1})\n"
          ]
        }
      ]
    },
    {
      "cell_type": "markdown",
      "source": [
        "**57. Write a Python program to find the highest 3 values in a dictionary.**"
      ],
      "metadata": {
        "id": "_ecSbZyCOYmC"
      }
    },
    {
      "cell_type": "code",
      "source": [
        "dict = {'a': 50, 'b': 200, 'c': 150, 'd': 400, 'e': 100}\n",
        "\n",
        "top_3_values = sorted(dict.values(), reverse=True)[:3]\n",
        "\n",
        "print(\"The highest 3 values are:\", top_3_values)\n"
      ],
      "metadata": {
        "colab": {
          "base_uri": "https://localhost:8080/"
        },
        "id": "HXDg-dMtNGMX",
        "outputId": "d08fa0e8-04bf-4292-c516-612a52b3397a"
      },
      "execution_count": null,
      "outputs": [
        {
          "output_type": "stream",
          "name": "stdout",
          "text": [
            "The highest 3 values are: [400, 200, 150]\n"
          ]
        }
      ]
    },
    {
      "cell_type": "markdown",
      "source": [
        "**58. Write a Python program to combine values in python list of dictionaries.\n",
        "Sample data: [{'item': 'item1', 'amount': 400}, {'item': 'item2', 'amount':\n",
        "300}, o {'item': 'item1', 'amount': 750}]\n",
        "Expected Output:\n",
        "• Counter ({'item1': 1150, 'item2': 300})**"
      ],
      "metadata": {
        "id": "ruVV2tdJPRHT"
      }
    },
    {
      "cell_type": "code",
      "source": [
        "from collections import Counter\n",
        "\n",
        "data = [{'item': 'item1', 'amount': 400},\n",
        "        {'item': 'item2', 'amount': 300},\n",
        "        {'item': 'item1', 'amount': 750}]\n",
        "\n",
        "result=Counter()\n",
        "for i in data:\n",
        "  result[i['item']]+=i['amount']\n",
        "print(result)"
      ],
      "metadata": {
        "colab": {
          "base_uri": "https://localhost:8080/"
        },
        "id": "tc1gTYWLlFGx",
        "outputId": "956b03e1-cb2b-497f-c61b-553627de5464"
      },
      "execution_count": null,
      "outputs": [
        {
          "output_type": "stream",
          "name": "stdout",
          "text": [
            "Counter({'item1': 1150, 'item2': 300})\n"
          ]
        }
      ]
    },
    {
      "cell_type": "markdown",
      "source": [
        "**59. Write a Python program to create a dictionary from a string.\n",
        "Note: Track the count of the letters from the string.**"
      ],
      "metadata": {
        "id": "gmgc6BOLQUhG"
      }
    },
    {
      "cell_type": "code",
      "source": [
        "from collections import  Counter\n",
        "\n",
        "string=\"Hello Python\"\n",
        "result=Counter(string)\n",
        "print(result)"
      ],
      "metadata": {
        "colab": {
          "base_uri": "https://localhost:8080/"
        },
        "id": "PLhtApwtl2km",
        "outputId": "1082cbb8-094c-4dbb-d9ca-ee4a660df412"
      },
      "execution_count": null,
      "outputs": [
        {
          "output_type": "stream",
          "name": "stdout",
          "text": [
            "Counter({'l': 2, 'o': 2, 'H': 1, 'e': 1, ' ': 1, 'P': 1, 'y': 1, 't': 1, 'h': 1, 'n': 1})\n"
          ]
        }
      ]
    },
    {
      "cell_type": "markdown",
      "source": [
        "**60. Sample string:\n",
        " 'w3resource' Expected output:\n",
        "• {'3': 1,’s’: 1, 'r': 2, 'u': 1, 'w': 1, 'c': 1, 'e': 2, 'o': 1}**"
      ],
      "metadata": {
        "id": "x1kN0fxsRWaB"
      }
    },
    {
      "cell_type": "code",
      "source": [
        "from collections import Counter\n",
        "\n",
        "string=\"w3resource\"\n",
        "result=Counter(string)\n",
        "print(result)"
      ],
      "metadata": {
        "colab": {
          "base_uri": "https://localhost:8080/"
        },
        "id": "IxFj36MsmG29",
        "outputId": "d77cc9f6-4431-469f-d0c1-a56375aedcce"
      },
      "execution_count": null,
      "outputs": [
        {
          "output_type": "stream",
          "name": "stdout",
          "text": [
            "Counter({'r': 2, 'e': 2, 'w': 1, '3': 1, 's': 1, 'o': 1, 'u': 1, 'c': 1})\n"
          ]
        }
      ]
    },
    {
      "cell_type": "markdown",
      "source": [
        "**61. Write a Python function to calculate the factorial of a number (a\n",
        "nonnegative integer)**"
      ],
      "metadata": {
        "id": "XnjoKIk3vfDf"
      }
    },
    {
      "cell_type": "code",
      "source": [
        "def factorial(n):\n",
        "    if n==0:\n",
        "      return 1\n",
        "    else:\n",
        "      return n*factorial(n-1)\n",
        "\n",
        "number=int(input(\"Enter a number: \"))\n",
        "if number < 0:\n",
        "    print(\"Factorial is not defined for negative numbers.\")\n",
        "else:\n",
        "    result = factorial(number)\n",
        "    print(f\"The factorial of {number} is {result}.\")"
      ],
      "metadata": {
        "colab": {
          "base_uri": "https://localhost:8080/"
        },
        "id": "h-Ael72az_MU",
        "outputId": "509db624-a2bf-45d9-af99-f0a05675dba2"
      },
      "execution_count": null,
      "outputs": [
        {
          "output_type": "stream",
          "name": "stdout",
          "text": [
            "Enter a number: 5\n",
            "The factorial of 5 is 120.\n"
          ]
        }
      ]
    },
    {
      "cell_type": "markdown",
      "source": [
        "**62. Write a Python function to check whether a number is in a given range.**\n"
      ],
      "metadata": {
        "id": "gZdClDAQv5pK"
      }
    },
    {
      "cell_type": "code",
      "source": [
        "def is_in_range(num, start, end):\n",
        "    if start <= num <= end:\n",
        "        return True\n",
        "    else:\n",
        "        return False\n",
        "\n",
        "print(is_in_range(5, 1, 10))\n",
        "print(is_in_range(15, 1, 10))\n"
      ],
      "metadata": {
        "id": "T7t-CIRTR_8h",
        "colab": {
          "base_uri": "https://localhost:8080/"
        },
        "outputId": "130f799f-4edf-44d7-b9c3-611918df46b6"
      },
      "execution_count": null,
      "outputs": [
        {
          "output_type": "stream",
          "name": "stdout",
          "text": [
            "True\n",
            "False\n"
          ]
        }
      ]
    },
    {
      "cell_type": "markdown",
      "source": [
        "**63. Write a Python function to check whether a number is perfect or not.**"
      ],
      "metadata": {
        "id": "Xj7h6zyZwmAy"
      }
    },
    {
      "cell_type": "code",
      "source": [
        "def perfect_number(num):\n",
        "  if num <= 1:\n",
        "    return False\n",
        "  sum = 1\n",
        "  for i in range(2, int(num**0.5) + 1):\n",
        "    if num % i == 0:\n",
        "      if i == num // i:\n",
        "        sum += i\n",
        "      else:\n",
        "        sum += i + num // i\n",
        "  return sum\n",
        "\n",
        "number = int(input(\"Enter a number: \"))\n",
        "if perfect_number(number):\n",
        "  print(f\"{number} is a perfect number.\")\n",
        "else:\n",
        "  print(f\"{number} is not a perfect number.\")"
      ],
      "metadata": {
        "colab": {
          "base_uri": "https://localhost:8080/"
        },
        "id": "lZUgJGH6xqiy",
        "outputId": "c95e911c-37ef-4b71-baf9-b1a7f8e8da85"
      },
      "execution_count": null,
      "outputs": [
        {
          "output_type": "stream",
          "name": "stdout",
          "text": [
            "Enter a number: 7\n",
            "7 is a perfect number.\n"
          ]
        }
      ]
    },
    {
      "cell_type": "markdown",
      "source": [
        "**64. Write a Python function that checks whether a passed string is\n",
        "palindrome or not.**"
      ],
      "metadata": {
        "id": "JKsspNY7w-59"
      }
    },
    {
      "cell_type": "code",
      "source": [
        "def palindrome(s):\n",
        "    s = s.lower()\n",
        "    return s==s[: : -1]\n",
        "\n",
        "string='malayalam'\n",
        "if palindrome(string):\n",
        "    print(string, \"is a palindrome\")\n",
        "else:\n",
        "    print(string, \"is not a palindrome\")"
      ],
      "metadata": {
        "colab": {
          "base_uri": "https://localhost:8080/"
        },
        "id": "HFvZtRjCn9ph",
        "outputId": "d5fa0f81-7c9f-4f5b-e52a-e76876814693"
      },
      "execution_count": null,
      "outputs": [
        {
          "output_type": "stream",
          "name": "stdout",
          "text": [
            "malayalam is a palindrome\n"
          ]
        }
      ]
    },
    {
      "cell_type": "markdown",
      "source": [
        "**65. How Many Basic Types of Functions Are Available in Python?**\n",
        "\n",
        "---\n",
        "Ans. The basic types of functions available in Python are:\n",
        "\n",
        "1.  Built-in Functions\n",
        "\n",
        "example:- print(), len(), type(), input(), sum()\n",
        "2. User-defined Functions\n",
        "3. Lambda Functions (Anonymous Functions)\n",
        "4. Recursive Functions\n",
        "5. Higher-order Functions\n",
        "6. Generator Functions\n"
      ],
      "metadata": {
        "id": "3YmA-yspxSdd"
      }
    },
    {
      "cell_type": "markdown",
      "source": [
        "**66. How can you pick a random item from a list or tuple?**\n",
        "\n",
        "---\n",
        "Ans. You can pick a random item from a list or tuple in Python using the random.choice() function from the random module. Here's how you can do it:\n",
        "\n"
      ],
      "metadata": {
        "id": "bzxK_kZhzeAU"
      }
    },
    {
      "cell_type": "code",
      "source": [
        "# Example with a List:\n",
        "\n",
        "import random\n",
        "\n",
        "my_list = [1, 2, 3, 4, 5]\n",
        "random_item = random.choice(my_list)\n",
        "print(random_item)\n"
      ],
      "metadata": {
        "colab": {
          "base_uri": "https://localhost:8080/"
        },
        "id": "w57PwpC4weC-",
        "outputId": "ac20f285-bc6d-4547-ec64-3593d7b400b0"
      },
      "execution_count": null,
      "outputs": [
        {
          "output_type": "stream",
          "name": "stdout",
          "text": [
            "3\n"
          ]
        }
      ]
    },
    {
      "cell_type": "code",
      "source": [
        "# Example with a Tuple:\n",
        "\n",
        "import random\n",
        "\n",
        "my_tuple = (10, 20, 30, 40, 50)\n",
        "random_item = random.choice(my_tuple)\n",
        "print(random_item)"
      ],
      "metadata": {
        "colab": {
          "base_uri": "https://localhost:8080/"
        },
        "id": "AdeBqqgY0Zxr",
        "outputId": "ac8e4269-a714-4f42-a3d1-9f60c1f14269"
      },
      "execution_count": null,
      "outputs": [
        {
          "output_type": "stream",
          "name": "stdout",
          "text": [
            "50\n"
          ]
        }
      ]
    },
    {
      "cell_type": "markdown",
      "source": [
        "**67. How can you pick a random item from a range?**\n",
        "\n",
        "---\n",
        "Ans. Since range() creates a sequence, you can use random.choice() to pick a random element from that sequence.\n"
      ],
      "metadata": {
        "id": "faef9PXE0ntC"
      }
    },
    {
      "cell_type": "code",
      "source": [
        "import random\n",
        "\n",
        "random_number = random.choice(range(1, 11))\n",
        "print(random_number)"
      ],
      "metadata": {
        "colab": {
          "base_uri": "https://localhost:8080/"
        },
        "id": "Vp7HN99a0jds",
        "outputId": "436826fd-4604-449e-b547-a922c0ce2785"
      },
      "execution_count": null,
      "outputs": [
        {
          "output_type": "stream",
          "name": "stdout",
          "text": [
            "6\n"
          ]
        }
      ]
    },
    {
      "cell_type": "markdown",
      "source": [
        "**68. How can you get a random number in python?**\n",
        "\n",
        "---\n",
        "Ans. Generate a random floating-point number between 0 and 1:\n",
        "\n",
        "- The random() function generates a random float between 0 (inclusive) and 1 (exclusive).\n"
      ],
      "metadata": {
        "id": "ElZCSgXc1c0C"
      }
    },
    {
      "cell_type": "code",
      "source": [
        "import random\n",
        "\n",
        "random_number = random.random()\n",
        "print(random_number)"
      ],
      "metadata": {
        "colab": {
          "base_uri": "https://localhost:8080/"
        },
        "id": "HuUnn3QC1Ua4",
        "outputId": "3c3ac220-cfd8-4bfa-eb81-ab7c91b1739e"
      },
      "execution_count": null,
      "outputs": [
        {
          "output_type": "stream",
          "name": "stdout",
          "text": [
            "0.01533402621190083\n"
          ]
        }
      ]
    },
    {
      "cell_type": "markdown",
      "source": [
        "**69. How will you set the starting value in generating random numbers?**\n",
        "\n",
        "---\n",
        "Ans. You can use the random.seed() function to set the starting value for generating random numbers.\n"
      ],
      "metadata": {
        "id": "NpOlzZ-m3A1l"
      }
    },
    {
      "cell_type": "code",
      "source": [
        "import random\n",
        "\n",
        "random.seed(77)\n",
        "random_number = random.random()\n",
        "print(random_number)"
      ],
      "metadata": {
        "colab": {
          "base_uri": "https://localhost:8080/"
        },
        "id": "yLuF1bzR2iGv",
        "outputId": "6510d28b-853f-4782-8135-582a0c6c3cbd"
      },
      "execution_count": null,
      "outputs": [
        {
          "output_type": "stream",
          "name": "stdout",
          "text": [
            "0.799115369116727\n"
          ]
        }
      ]
    },
    {
      "cell_type": "markdown",
      "source": [
        "**70.  How will you randomize the items of a list in place?**\n",
        "\n",
        "---\n",
        "Ans. To randomize or shuffle the items of a list in place in Python, you can use the random.shuffle() function from the random module.\n"
      ],
      "metadata": {
        "id": "-ETGWzfU5BKv"
      }
    },
    {
      "cell_type": "code",
      "source": [
        "import random\n",
        "\n",
        "mylist = [11, 22, 33, 44, 55]\n",
        "random.shuffle(mylist)\n",
        "print(mylist)"
      ],
      "metadata": {
        "colab": {
          "base_uri": "https://localhost:8080/"
        },
        "id": "g3JRehAc45Rv",
        "outputId": "d417471a-f0cd-459c-935d-d7a894c4fdf6"
      },
      "execution_count": null,
      "outputs": [
        {
          "output_type": "stream",
          "name": "stdout",
          "text": [
            "[44, 55, 11, 22, 33]\n"
          ]
        }
      ]
    },
    {
      "cell_type": "markdown",
      "source": [
        "**71. What is File function in python? What are keywords to create\n",
        "and write file.**"
      ],
      "metadata": {
        "id": "JjP1K3UL5loN"
      }
    },
    {
      "cell_type": "markdown",
      "source": [
        "**72. Write a Python program to read an entire text file.**"
      ],
      "metadata": {
        "id": "lxde4JpL53sf"
      }
    },
    {
      "cell_type": "markdown",
      "source": [
        "**73. Write a Python program to append text to a file and display the text.**"
      ],
      "metadata": {
        "id": "67KP_fdp6PV0"
      }
    },
    {
      "cell_type": "markdown",
      "source": [
        "**74. Write a Python program to read first n lines of a file.**"
      ],
      "metadata": {
        "id": "zZLBNH7C6Wey"
      }
    },
    {
      "cell_type": "markdown",
      "source": [
        "**75. Write a Python program to read last n lines of a file.**"
      ],
      "metadata": {
        "id": "QXR6bBCE6dSS"
      }
    },
    {
      "cell_type": "markdown",
      "source": [
        "**76. Write a Python program to read a file line by line and store it into a list.**"
      ],
      "metadata": {
        "id": "Dn1dDdml6kvZ"
      }
    },
    {
      "cell_type": "markdown",
      "source": [
        "**77. Write a Python program to read a file line by line store it into a variable.**"
      ],
      "metadata": {
        "id": "x6IHCb546srZ"
      }
    },
    {
      "cell_type": "markdown",
      "source": [
        "**78. Write a python program to find the longest words.**"
      ],
      "metadata": {
        "id": "z6hDk_Nn601c"
      }
    },
    {
      "cell_type": "code",
      "source": [
        "num=['100','200','300,''400','500','600','700','800','900','1000']\n",
        "\n",
        "def longest_word(num_list):\n",
        "  return max(num_list,key=len)\n",
        "\n",
        "longest_num=longest_word(num)\n",
        "\n",
        "print(\"Longest_word: \", longest_num)"
      ],
      "metadata": {
        "colab": {
          "base_uri": "https://localhost:8080/"
        },
        "id": "37Gn2LSlpntT",
        "outputId": "e0b77757-ef88-4970-d64f-e42f6bc2c502"
      },
      "execution_count": null,
      "outputs": [
        {
          "output_type": "stream",
          "name": "stdout",
          "text": [
            "Longest_word:  300,400\n"
          ]
        }
      ]
    },
    {
      "cell_type": "markdown",
      "source": [
        "**79. Write a Python program to count the number of lines in a text file.**"
      ],
      "metadata": {
        "id": "KUSIcHEV68JB"
      }
    },
    {
      "cell_type": "markdown",
      "source": [
        "**80. Write a Python program to count the frequency of words in a file.**"
      ],
      "metadata": {
        "id": "K9vGdccL8LMQ"
      }
    },
    {
      "cell_type": "markdown",
      "source": [
        "**81. Write a Python program to write a list to a file.**"
      ],
      "metadata": {
        "id": "ViDVLjCm8XJS"
      }
    },
    {
      "cell_type": "markdown",
      "source": [
        "**82. Write a Python program to copy the contents of a file to another file.**"
      ],
      "metadata": {
        "id": "np9Kc_Mk8uHI"
      }
    },
    {
      "cell_type": "markdown",
      "source": [
        "**83. Explain Exception handling? What is an Error in Python?**"
      ],
      "metadata": {
        "id": "blhyAwKm8wxb"
      }
    },
    {
      "cell_type": "markdown",
      "source": [
        "**84. How many except statements can a try-except block have? Name\n",
        "Some built-in exception classes:**"
      ],
      "metadata": {
        "id": "oPkqavwK83nj"
      }
    },
    {
      "cell_type": "markdown",
      "source": [
        "**85. When will the else part of try-except-else be executed?**"
      ],
      "metadata": {
        "id": "xwdfZZoj88lm"
      }
    },
    {
      "cell_type": "markdown",
      "source": [
        "**86. Can one block of except statements handle multiple exception?**"
      ],
      "metadata": {
        "id": "NFKCjpn_9C2G"
      }
    },
    {
      "cell_type": "markdown",
      "source": [
        "**87. When is the finally block executed?**"
      ],
      "metadata": {
        "id": "OTMpgG-Z9KXt"
      }
    },
    {
      "cell_type": "markdown",
      "source": [
        "**88. What happens when „1‟== 1 is executed?**"
      ],
      "metadata": {
        "id": "gp2MlkaD9SmH"
      }
    },
    {
      "cell_type": "markdown",
      "source": [
        "**89. How Do You Handle Exceptions with Try/Except/Finally in Python?\n",
        "Explain with coding snippets.**"
      ],
      "metadata": {
        "id": "3eYJ1yC69ZcV"
      }
    },
    {
      "cell_type": "markdown",
      "source": [
        "**90. Write python program that user to enter only odd numbers, else\n",
        "will raise an exception.**"
      ],
      "metadata": {
        "id": "-OvfdnJc9hXf"
      }
    }
  ]
}